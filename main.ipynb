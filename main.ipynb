{
 "cells": [
  {
   "cell_type": "markdown",
   "metadata": {},
   "source": [
    "# Swish Analytics: A Deep Dive into NBA Statistics\n",
    "<hr>"
   ]
  },
  {
   "cell_type": "markdown",
   "metadata": {},
   "source": [
    "### Table of Contents\n",
    "1. Introduction\n",
    "2. Data Exploration\n",
    "3. Finding Patterns\n",
    "4. Anamoly Detection\n",
    "5. Analyzing Trends\n",
    "6. Conclusions"
   ]
  },
  {
   "cell_type": "markdown",
   "metadata": {},
   "source": [
    "## 1. Introduction\n",
    "\n",
    "As a passionate NBA fan and a budding data scientist, the intersection of sports and analytics is an exciting new frontier for me. Since basketball is competitve by nature, there's been a culture of comparison in NBA fandom for as long as it's existed. We've been asking the same burning questions about the greatest players of all time, what teams are better or worse, what rosters were better or worse, and where the game has been and where it's headed. This project is an attempt at taking a statistical and scientific approach to a select few questions I've curated.\n",
    "\n",
    "This project is based on the [NBA Players dataset](https://www.kaggle.com/datasets/justinas/nba-players-data) and the goal is to use statistical analysis methods to answer intriguing questions while exploring NBA player data over the years. It is worth noting that the dataset records player data from the 1996-97 season to the 2022-23 season, and therefore doesn't include information from later seasons including the current (2023-24) season. "
   ]
  }
 ],
 "metadata": {
  "language_info": {
   "name": "python"
  }
 },
 "nbformat": 4,
 "nbformat_minor": 2
}
